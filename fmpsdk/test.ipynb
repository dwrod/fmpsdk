{
 "cells": [
  {
   "cell_type": "code",
   "execution_count": null,
   "metadata": {},
   "outputs": [],
   "source": [
    "import fmpsdk\n",
    "from pprint import pprint\n",
    "from tiktoken import get_encoding\n",
    "from IPython.display import Markdown, display\n",
    "\n",
    "enc = get_encoding(\"o200k_base\") \n",
    "\n"
   ]
  },
  {
   "cell_type": "code",
   "execution_count": null,
   "metadata": {},
   "outputs": [],
   "source": [
    "# Actives\n",
    "actives = fmpsdk.actives()\n",
    "display(Markdown(actives))\n",
    "len(enc.encode(str(actives)))"
   ]
  },
  {
   "cell_type": "code",
   "execution_count": null,
   "metadata": {},
   "outputs": [],
   "source": [
    "# Advanced Discounted Cash Flow\n",
    "advanced_dcf = fmpsdk.advanced_discounted_cash_flow(\"AAPL\", )\n",
    "display(Markdown(advanced_dcf))\n",
    "len(enc.encode(str(advanced_dcf)))"
   ]
  },
  {
   "cell_type": "code",
   "execution_count": null,
   "metadata": {},
   "outputs": [],
   "source": [
    "# All Countries\n",
    "countries = fmpsdk.all_countries()\n",
    "pprint(countries)\n",
    "len(enc.encode(str(countries)))"
   ]
  },
  {
   "cell_type": "code",
   "execution_count": null,
   "metadata": {},
   "outputs": [],
   "source": [
    "# Analyst Estimates\n",
    "analyst_estimates = fmpsdk.analyst_estimates(\"AAPL\", period='quarter')\n",
    "display(Markdown(analyst_estimates))\n",
    "len(enc.encode(str(analyst_estimates)))"
   ]
  },
  {
   "cell_type": "code",
   "execution_count": null,
   "metadata": {},
   "outputs": [],
   "source": [
    "# Analyst Recommendation\n",
    "analyst_recommendation = fmpsdk.analyst_recommendation(\"AAPL\", output= 'markdown')\n",
    "display(Markdown(analyst_recommendation))\n",
    "len(enc.encode(str(analyst_recommendation)))\n"
   ]
  },
  {
   "cell_type": "code",
   "execution_count": null,
   "metadata": {},
   "outputs": [],
   "source": [
    "# Available Commodities\n",
    "available_commodities = fmpsdk.available_commodities()\n",
    "pprint(available_commodities)\n",
    "len(enc.encode(str(available_commodities)))\n"
   ]
  },
  {
   "cell_type": "code",
   "execution_count": null,
   "metadata": {},
   "outputs": [],
   "source": [
    "# Available Cryptocurrencies\n",
    "available_cryptocurrencies = fmpsdk.available_cryptocurrencies()\n",
    "pprint(available_cryptocurrencies)"
   ]
  },
  {
   "cell_type": "code",
   "execution_count": null,
   "metadata": {},
   "outputs": [],
   "source": [
    "# Available ETFs\n",
    "available_etfs = fmpsdk.available_etfs()\n",
    "pprint(available_etfs)"
   ]
  },
  {
   "cell_type": "code",
   "execution_count": null,
   "metadata": {},
   "outputs": [],
   "source": [
    "# Available Euronext\n",
    "available_euronext = fmpsdk.available_euronext()\n",
    "pprint(available_euronext)"
   ]
  },
  {
   "cell_type": "code",
   "execution_count": null,
   "metadata": {},
   "outputs": [],
   "source": [
    "# Available Exchanges\n",
    "available_exchanges = fmpsdk.available_exchanges()\n",
    "pprint(available_exchanges)"
   ]
  },
  {
   "cell_type": "code",
   "execution_count": null,
   "metadata": {},
   "outputs": [],
   "source": [
    "# Available Forex\n",
    "available_forex = fmpsdk.available_forex()\n",
    "pprint(available_forex)"
   ]
  },
  {
   "cell_type": "code",
   "execution_count": null,
   "metadata": {},
   "outputs": [],
   "source": [
    "# Available Indexes\n",
    "available_indexes = fmpsdk.available_indexes()\n",
    "pprint(available_indexes)"
   ]
  },
  {
   "cell_type": "code",
   "execution_count": null,
   "metadata": {},
   "outputs": [],
   "source": [
    "# Available Industries\n",
    "available_industries = fmpsdk.available_industries()\n",
    "pprint(available_industries)"
   ]
  },
  {
   "cell_type": "code",
   "execution_count": null,
   "metadata": {},
   "outputs": [],
   "source": [
    "# Available Mutual Funds\n",
    "available_mutual_funds = fmpsdk.available_mutual_funds()\n",
    "pprint(available_mutual_funds)"
   ]
  },
  {
   "cell_type": "code",
   "execution_count": null,
   "metadata": {},
   "outputs": [],
   "source": [
    "# Available Sectors\n",
    "available_sectors = fmpsdk.available_sectors()\n",
    "pprint(available_sectors)"
   ]
  },
  {
   "cell_type": "code",
   "execution_count": null,
   "metadata": {},
   "outputs": [],
   "source": [
    "# Available Traded List\n",
    "available_traded_list = fmpsdk.available_traded_list()\n",
    "pprint(available_traded_list)"
   ]
  },
  {
   "cell_type": "code",
   "execution_count": null,
   "metadata": {},
   "outputs": [],
   "source": [
    "# Available TSX\n",
    "available_tsx = fmpsdk.available_tsx()\n",
    "pprint(available_tsx)"
   ]
  },
  {
   "cell_type": "code",
   "execution_count": null,
   "metadata": {},
   "outputs": [],
   "source": [
    "# Balance Sheet Statement\n",
    "balance_sheet = fmpsdk.balance_sheet_statement(\"AAPL\", period='quarter')\n",
    "display(Markdown(balance_sheet))\n",
    "len(enc.encode(str(balance_sheet)))"
   ]
  },
  {
   "cell_type": "code",
   "execution_count": null,
   "metadata": {},
   "outputs": [],
   "source": [
    "# Balance Sheet Statement As Reported\n",
    "balance_sheet_reported = fmpsdk.balance_sheet_statement_as_reported(\"AAPL\", )\n",
    "display(Markdown(balance_sheet_reported))\n",
    "len(enc.encode(str(balance_sheet_reported)))"
   ]
  },
  {
   "cell_type": "code",
   "execution_count": null,
   "metadata": {},
   "outputs": [],
   "source": [
    "# Balance Sheet Statement Growth\n",
    "balance_sheet_growth = fmpsdk.balance_sheet_statement_growth(\"AAPL\", )\n",
    "display(Markdown(balance_sheet_growth))\n",
    "len(enc.encode(str(balance_sheet_growth)))\n"
   ]
  },
  {
   "cell_type": "code",
   "execution_count": null,
   "metadata": {},
   "outputs": [],
   "source": [
    "# Batch Earning Call Transcript\n",
    "batch_transcript = fmpsdk.batch_earning_call_transcript([\"AAPL\", \"GOOGL\"], year=2023)\n",
    "pprint(batch_transcript)"
   ]
  },
  {
   "cell_type": "code",
   "execution_count": null,
   "metadata": {},
   "outputs": [],
   "source": [
    "# Batch EOD Prices\n",
    "batch_eod = fmpsdk.batch_eod_prices([\"AAPL\", \"GOOGL\"], )\n",
    "pprint(batch_eod)"
   ]
  },
  {
   "cell_type": "code",
   "execution_count": null,
   "metadata": {},
   "outputs": [],
   "source": [
    "# Cash Flow Statement\n",
    "cash_flow = fmpsdk.cash_flow_statement(\"AAPL\", period='quarter')\n",
    "display(Markdown(cash_flow))\n",
    "len(enc.encode(str(cash_flow)))"
   ]
  },
  {
   "cell_type": "code",
   "execution_count": null,
   "metadata": {},
   "outputs": [],
   "source": [
    "# Cash Flow Statement As Reported\n",
    "cash_flow_reported = fmpsdk.cash_flow_statement_as_reported(\"AAPL\", )\n",
    "display(Markdown(cash_flow_reported))\n",
    "len(enc.encode(str(cash_flow_reported)))\n"
   ]
  },
  {
   "cell_type": "code",
   "execution_count": null,
   "metadata": {},
   "outputs": [],
   "source": [
    "# Cash Flow Statement Growth\n",
    "cash_flow_growth = fmpsdk.cash_flow_statement_growth(\"AAPL\", )\n",
    "display(Markdown(cash_flow_growth))\n",
    "len(enc.encode(str(cash_flow_growth)))\n",
    "\n",
    "# CIK"
   ]
  },
  {
   "cell_type": "code",
   "execution_count": null,
   "metadata": {},
   "outputs": [],
   "source": [
    "# CIK\n",
    "cik = fmpsdk.cik(\"AAPL\", )\n",
    "pprint(cik)\n",
    "len(enc.encode(str(cik)))\n"
   ]
  },
  {
   "cell_type": "code",
   "execution_count": null,
   "metadata": {},
   "outputs": [],
   "source": [
    "# CIK List\n",
    "cik_list = fmpsdk.cik_list()\n",
    "pprint(cik_list)\n",
    "len(enc.encode(str(cik_list)))\n"
   ]
  },
  {
   "cell_type": "code",
   "execution_count": null,
   "metadata": {},
   "outputs": [],
   "source": [
    "# CIK Search\n",
    "cik_search = fmpsdk.cik_search(\"Apple\", )\n",
    "pprint(cik_search)\n",
    "len(enc.encode(str(cik_search)))"
   ]
  },
  {
   "cell_type": "code",
   "execution_count": null,
   "metadata": {},
   "outputs": [],
   "source": [
    "# Commitment of Traders Report\n",
    "cot_report = fmpsdk.commitment_of_traders_report(\"ES\", )\n",
    "pprint(cot_report)\n",
    "len(enc.encode(str(cot_report)))\n"
   ]
  },
  {
   "cell_type": "code",
   "execution_count": null,
   "metadata": {},
   "outputs": [],
   "source": [
    "# Commitment of Traders Report Analysis\n",
    "cot_analysis = fmpsdk.commitment_of_traders_report_analysis(\"ES\", from_date= \"2024-01-01\", to_date= \"2024-08-20\")\n",
    "pprint(cot_analysis)\n",
    "len(enc.encode(str(cot_analysis)))"
   ]
  },
  {
   "cell_type": "code",
   "execution_count": null,
   "metadata": {},
   "outputs": [],
   "source": [
    "# Commitment of Traders Report List\n",
    "cot_list = fmpsdk.commitment_of_traders_report_list()\n",
    "pprint(cot_list)\n",
    "len(enc.encode(str(cot_list)))\n"
   ]
  },
  {
   "cell_type": "code",
   "execution_count": null,
   "metadata": {},
   "outputs": [],
   "source": [
    "# Commodities List\n",
    "commodities = fmpsdk.commodities_list()\n",
    "pprint(commodities)\n",
    "len(enc.encode(str(commodities)))"
   ]
  },
  {
   "cell_type": "code",
   "execution_count": null,
   "metadata": {},
   "outputs": [],
   "source": [
    "# Commodity Price\n",
    "commodity_price = fmpsdk.commodity_price(\"GCUSD\", )\n",
    "pprint(commodity_price)\n",
    "len(enc.encode(str(commodity_price)))\n"
   ]
  },
  {
   "cell_type": "code",
   "execution_count": null,
   "metadata": {},
   "outputs": [],
   "source": [
    "# Company Core Information\n",
    "core_info = fmpsdk.company_core_information(\"AAPL\", )\n",
    "display(Markdown(core_info))\n",
    "len(enc.encode(str(core_info)))"
   ]
  },
  {
   "cell_type": "code",
   "execution_count": null,
   "metadata": {},
   "outputs": [],
   "source": [
    "# Company Notes\n",
    "notes = fmpsdk.company_notes(\"AAPL\", )\n",
    "display(Markdown(notes))\n",
    "len(enc.encode(str(notes)))"
   ]
  },
  {
   "cell_type": "code",
   "execution_count": null,
   "metadata": {},
   "outputs": [],
   "source": [
    "# Company Outlook\n",
    "outlook = fmpsdk.company_outlook(\"AAPL\")\n",
    "pprint(outlook)\n",
    "len(enc.encode(str(outlook)))"
   ]
  },
  {
   "cell_type": "code",
   "execution_count": null,
   "metadata": {},
   "outputs": [],
   "source": [
    "# Company Profile\n",
    "profile = fmpsdk.company_profile(\"AAPL\", output= 'markdown')\n",
    "display(Markdown(profile))\n",
    "len(enc.encode(str(profile)))"
   ]
  },
  {
   "cell_type": "code",
   "execution_count": null,
   "metadata": {},
   "outputs": [],
   "source": [
    "# Compensation Benchmark\n",
    "compensation = fmpsdk.compensation_benchmark(year=2023, output='markdown')\n",
    "display(Markdown(compensation))\n",
    "len(enc.encode(str(compensation)))"
   ]
  },
  {
   "cell_type": "code",
   "execution_count": null,
   "metadata": {},
   "outputs": [],
   "source": [
    "# Crowdfunding by CIK\n",
    "crowdfunding = fmpsdk.crowdfunding_by_cik(\"0001640147\", )\n",
    "pprint(crowdfunding)"
   ]
  },
  {
   "cell_type": "code",
   "execution_count": null,
   "metadata": {},
   "outputs": [],
   "source": [
    "# Crowdfunding RSS Feed\n",
    "crowdfunding_rss = fmpsdk.crowdfunding_rss_feed()\n",
    "pprint(crowdfunding_rss)"
   ]
  },
  {
   "cell_type": "code",
   "execution_count": null,
   "metadata": {},
   "outputs": [],
   "source": [
    "# Crowdfunding Search\n",
    "crowdfunding_search = fmpsdk.crowdfunding_search(\"Apple\", )\n",
    "pprint(crowdfunding_search)\n",
    "len(enc.encode(str(crowdfunding_search)))\n"
   ]
  },
  {
   "cell_type": "code",
   "execution_count": null,
   "metadata": {},
   "outputs": [],
   "source": [
    "# Cryptocurrencies List\n",
    "crypto_list = fmpsdk.cryptocurrencies_list()\n",
    "pprint(crypto_list)\n",
    "len(enc.encode(str(crypto_list)))\n"
   ]
  },
  {
   "cell_type": "code",
   "execution_count": null,
   "metadata": {},
   "outputs": [],
   "source": [
    "# Cryptocurrency Quote\n",
    "crypto_quote = fmpsdk.cryptocurrency_quote(\"BTCUSD\", )\n",
    "pprint(crypto_quote)\n",
    "len(enc.encode(str(crypto_quote)))"
   ]
  },
  {
   "cell_type": "code",
   "execution_count": null,
   "metadata": {},
   "outputs": [],
   "source": [
    "# CUSIP\n",
    "cusip = fmpsdk.cusip(\"AAPL\", )\n",
    "pprint(cusip)\n",
    "len(enc.encode(str(cusip)))\n"
   ]
  },
  {
   "cell_type": "code",
   "execution_count": null,
   "metadata": {},
   "outputs": [],
   "source": [
    "# Delisted Companies\n",
    "delisted = fmpsdk.delisted_companies()\n",
    "pprint(delisted)"
   ]
  },
  {
   "cell_type": "code",
   "execution_count": null,
   "metadata": {},
   "outputs": [],
   "source": [
    "# Discounted Cash Flow\n",
    "dcf = fmpsdk.discounted_cash_flow(\"AAPL\", )\n",
    "display(Markdown(dcf))\n",
    "len(enc.encode(str(dcf)))\n"
   ]
  },
  {
   "cell_type": "code",
   "execution_count": null,
   "metadata": {},
   "outputs": [],
   "source": [
    "# Dividend Calendar\n",
    "dividend_cal = fmpsdk.dividend_calendar(from_date= \"2024-08-14\", to_date= \"2024-08-20\")\n",
    "display(Markdown(dividend_cal))\n",
    "len(enc.encode(str(dividend_cal)))\n"
   ]
  },
  {
   "cell_type": "code",
   "execution_count": null,
   "metadata": {},
   "outputs": [],
   "source": [
    "# Dow Jones Constituent\n",
    "dowjones = fmpsdk.dowjones_constituent(output='markdown')\n",
    "pprint(dowjones)\n",
    "len(enc.encode(str(dowjones)))"
   ]
  },
  {
   "cell_type": "code",
   "execution_count": null,
   "metadata": {},
   "outputs": [],
   "source": [
    "# Earning Call Transcript\n",
    "transcript = fmpsdk.earning_call_transcript(\"AAPL\", 2023, 1,output='markdown')\n",
    "pprint(transcript)\n",
    "len(enc.encode(str(transcript)))"
   ]
  },
  {
   "cell_type": "code",
   "execution_count": null,
   "metadata": {},
   "outputs": [],
   "source": [
    "# Earning Call Transcripts Available Dates\n",
    "transcript_dates = fmpsdk.earning_call_transcripts_available_dates(\"AAPL\")\n",
    "pprint(transcript_dates)\n",
    "len(enc.encode(str(transcript_dates)))"
   ]
  },
  {
   "cell_type": "code",
   "execution_count": null,
   "metadata": {},
   "outputs": [],
   "source": [
    "# Earning Calendar\n",
    "earning_cal = fmpsdk.earning_calendar(from_date= \"2024-02-14\", \n",
    "                                      to_date= \"2024-08-20\", \n",
    "                                      output= 'markdown')\n",
    "display(Markdown(earning_cal))\n",
    "len(enc.encode(str(earning_cal)))"
   ]
  },
  {
   "cell_type": "code",
   "execution_count": null,
   "metadata": {},
   "outputs": [],
   "source": [
    "# Earnings Surprises\n",
    "surprises = fmpsdk.earnings_surprises(\"AAPL\", )\n",
    "display(Markdown(surprises))\n",
    "len(enc.encode(str(surprises)))\n"
   ]
  },
  {
   "cell_type": "code",
   "execution_count": null,
   "metadata": {},
   "outputs": [],
   "source": [
    "# Economic Calendar\n",
    "economic_cal = fmpsdk.economic_calendar(from_date= \"2024-01-01\", to_date= \"2024-08-29\", \n",
    "                                        impact_filter= ['High'], \n",
    "                                        output= 'markdown', \n",
    "                                        country_filter= None, \n",
    "                                        currency_filter= None)\n",
    "display(Markdown(economic_cal))\n",
    "len(enc.encode(str(economic_cal)))\n"
   ]
  },
  {
   "cell_type": "code",
   "execution_count": null,
   "metadata": {},
   "outputs": [],
   "source": [
    "# Economic Indicators\n",
    "economic_indicators = fmpsdk.economic_indicators(name=\"GDP\")\n",
    "display(Markdown(economic_indicators))\n",
    "len(enc.encode(str(economic_indicators)))"
   ]
  },
  {
   "cell_type": "code",
   "execution_count": null,
   "metadata": {},
   "outputs": [],
   "source": [
    "# Employee Count\n",
    "employee_count = fmpsdk.employee_count(\"AAPL\", )\n",
    "display(Markdown(employee_count))\n",
    "len(enc.encode(str(employee_count)))"
   ]
  },
  {
   "cell_type": "code",
   "execution_count": null,
   "metadata": {},
   "outputs": [],
   "source": [
    "# Enterprise Values\n",
    "enterprise_values = fmpsdk.enterprise_values(\"AAPL\", )\n",
    "display(Markdown(enterprise_values))\n",
    "len(enc.encode(str(enterprise_values)))\n"
   ]
  },
  {
   "cell_type": "code",
   "execution_count": null,
   "metadata": {},
   "outputs": [],
   "source": [
    "# ESG Score\n",
    "esg_score = fmpsdk.esg_score(\"AAPL\", )\n",
    "display(Markdown(esg_score))\n",
    "len(enc.encode(str(esg_score)))"
   ]
  },
  {
   "cell_type": "code",
   "execution_count": null,
   "metadata": {},
   "outputs": [],
   "source": [
    "# ETF Country Weightings\n",
    "etf_country_weightings = fmpsdk.etf_country_weightings(\"SPY\", )\n",
    "pprint(etf_country_weightings)\n",
    "len(enc.encode(str(etf_country_weightings)))"
   ]
  },
  {
   "cell_type": "code",
   "execution_count": null,
   "metadata": {},
   "outputs": [],
   "source": [
    "# ETF Holders\n",
    "etf_holders = fmpsdk.etf_holders(\"SPY\", )\n",
    "pprint(etf_holders)\n",
    "len(enc.encode(str(etf_holders)))"
   ]
  },
  {
   "cell_type": "code",
   "execution_count": null,
   "metadata": {},
   "outputs": [],
   "source": [
    "# ETF List\n",
    "etf_list = fmpsdk.etf_list()\n",
    "pprint(etf_list)\n",
    "len(enc.encode(str(etf_list)))"
   ]
  },
  {
   "cell_type": "code",
   "execution_count": null,
   "metadata": {},
   "outputs": [],
   "source": [
    "# ETF Sector Weightings\n",
    "etf_sector_weightings = fmpsdk.etf_sector_weightings(\"SPY\", )\n",
    "pprint(etf_sector_weightings)\n",
    "len(enc.encode(str(etf_sector_weightings)))\n"
   ]
  },
  {
   "cell_type": "code",
   "execution_count": null,
   "metadata": {},
   "outputs": [],
   "source": [
    "# Exchange Realtime\n",
    "exchange_realtime = fmpsdk.exchange_realtime(\"NYSE\")\n",
    "display(Markdown(exchange_realtime))\n",
    "len(enc.encode(str(exchange_realtime)))"
   ]
  },
  {
   "cell_type": "code",
   "execution_count": null,
   "metadata": {},
   "outputs": [],
   "source": [
    "# Executive Compensation\n",
    "executive_compensation = fmpsdk.executive_compensation(\"AAPL\", )\n",
    "display(Markdown(executive_compensation))\n",
    "len(enc.encode(str(executive_compensation)))"
   ]
  },
  {
   "cell_type": "code",
   "execution_count": null,
   "metadata": {},
   "outputs": [],
   "source": [
    "# Fail to Deliver\n",
    "fail_to_deliver = fmpsdk.fail_to_deliver(\"AAPL\", )\n",
    "pprint(fail_to_deliver)\n",
    "len(enc.encode(str(fail_to_deliver)))\n"
   ]
  },
  {
   "cell_type": "code",
   "execution_count": null,
   "metadata": {},
   "outputs": [],
   "source": [
    "# Financial Growth\n",
    "financial_growth = fmpsdk.financial_growth(\"AAPL\", )\n",
    "display(Markdown(financial_growth))\n",
    "len(enc.encode(str(financial_growth)))\n"
   ]
  },
  {
   "cell_type": "code",
   "execution_count": null,
   "metadata": {},
   "outputs": [],
   "source": [
    "# Financial Ratios\n",
    "financial_ratios = fmpsdk.financial_ratios(\"AAPL\", output= 'markdown', precision=5)\n",
    "display(Markdown(financial_ratios))\n",
    "len(enc.encode(str(financial_ratios)))\n"
   ]
  },
  {
   "cell_type": "code",
   "execution_count": null,
   "metadata": {},
   "outputs": [],
   "source": [
    "# Financial Ratios TTM\n",
    "financial_ratios_ttm = fmpsdk.financial_ratios_ttm(\"AAPL\", precision=3)\n",
    "display(Markdown(financial_ratios_ttm))\n",
    "len(enc.encode(str(financial_ratios_ttm)))"
   ]
  },
  {
   "cell_type": "code",
   "execution_count": null,
   "metadata": {},
   "outputs": [],
   "source": [
    "# Financial Score\n",
    "financial_score = fmpsdk.financial_score(\"AAPL\", )\n",
    "display(Markdown(financial_score))\n",
    "len(enc.encode(str(financial_score)))\n"
   ]
  },
  {
   "cell_type": "code",
   "execution_count": null,
   "metadata": {},
   "outputs": [],
   "source": [
    "# Financial Statement Full As Reported\n",
    "financial_statement_full = fmpsdk.financial_statement_full_as_reported(\"AAPL\", )\n",
    "display(Markdown(financial_statement_full))\n",
    "len(enc.encode(str(financial_statement_full)))\n"
   ]
  },
  {
   "cell_type": "code",
   "execution_count": null,
   "metadata": {},
   "outputs": [],
   "source": [
    "# Financial Statement Symbol Lists\n",
    "financial_statement_symbols = fmpsdk.financial_statement_symbol_lists()\n",
    "pprint(financial_statement_symbols)\n",
    "len(enc.encode(str(financial_statement_symbols)))\n"
   ]
  },
  {
   "cell_type": "code",
   "execution_count": null,
   "metadata": {},
   "outputs": [],
   "source": [
    "# FMP Articles\n",
    "fmp_articles = fmpsdk.fmp_articles(output='markdown',size=100)\n",
    "display(Markdown(fmp_articles))\n",
    "len(enc.encode(str(fmp_articles)))"
   ]
  },
  {
   "cell_type": "code",
   "execution_count": null,
   "metadata": {},
   "outputs": [],
   "source": [
    "# Form 13F\n",
    "form_13f = fmpsdk.form_13f(\"0001067983\", )\n",
    "pprint(form_13f)"
   ]
  },
  {
   "cell_type": "code",
   "execution_count": null,
   "metadata": {},
   "outputs": [],
   "source": [
    "# Forex\n",
    "forex = fmpsdk.forex(output='markdown')\n",
    "display(Markdown(forex))\n",
    "len(enc.encode(str(forex)))"
   ]
  },
  {
   "cell_type": "code",
   "execution_count": null,
   "metadata": {},
   "outputs": [],
   "source": [
    "# Forex List\n",
    "forex_list = fmpsdk.forex_list()\n",
    "pprint(forex_list)\n",
    "len(enc.encode(str(forex_list)))"
   ]
  },
  {
   "cell_type": "code",
   "execution_count": null,
   "metadata": {},
   "outputs": [],
   "source": [
    "# Forex Quote\n",
    "forex_quote = fmpsdk.forex_quote(\"EURUSD\", )\n",
    "display(Markdown(forex_quote))\n",
    "len(enc.encode(str(forex_quote)))\n"
   ]
  },
  {
   "cell_type": "code",
   "execution_count": null,
   "metadata": {},
   "outputs": [],
   "source": [
    "# Forex Historical\n",
    "forex_historical = fmpsdk.forex_historical(\"EURUSD\", \n",
    "                                           from_date= \"2024-01-01\", to_date= \"2024-08-20\",\n",
    "                                           output='markdown')\n",
    "display(Markdown(forex_historical))\n",
    "len(enc.encode(str(forex_historical)))"
   ]
  },
  {
   "cell_type": "code",
   "execution_count": null,
   "metadata": {},
   "outputs": [],
   "source": [
    "# Gainers\n",
    "gainers = fmpsdk.gainers()\n",
    "display(Markdown(gainers))\n",
    "len(enc.encode(str(gainers)))\n"
   ]
  },
  {
   "cell_type": "code",
   "execution_count": null,
   "metadata": {},
   "outputs": [],
   "source": [
    "# General News\n",
    "general_news = fmpsdk.general_news(pages= 20)\n",
    "display(Markdown(general_news))\n",
    "len(enc.encode(str(general_news)))"
   ]
  },
  {
   "cell_type": "code",
   "execution_count": null,
   "metadata": {},
   "outputs": [],
   "source": [
    "# Historical Chart\n",
    "historical_chart = fmpsdk.historical_chart(\"AAPL\", \n",
    "                                           timeframe= \"1day\", \n",
    "                                           from_date= \"2023-08-20\", \n",
    "                                           to_date= \"2024-08-20\", \n",
    "                                           output= \"markdown\")\n",
    "display(Markdown(historical_chart))\n",
    "len(enc.encode(str(historical_chart)))\n"
   ]
  },
  {
   "cell_type": "code",
   "execution_count": null,
   "metadata": {},
   "outputs": [],
   "source": [
    "# Historical Daily Discounted Cash Flow\n",
    "historical_daily_dcf = fmpsdk.historical_daily_discounted_cash_flow(\"AAPL\", )\n",
    "pprint(historical_daily_dcf)\n",
    "len(enc.encode(str(historical_daily_dcf)))\n"
   ]
  },
  {
   "cell_type": "code",
   "execution_count": null,
   "metadata": {},
   "outputs": [],
   "source": [
    "# Historical Dow Jones Constituent\n",
    "historical_dowjones = fmpsdk.historical_dowjones_constituent()\n",
    "pprint(historical_dowjones)\n",
    "len(enc.encode(str(historical_dowjones)))\n"
   ]
  },
  {
   "cell_type": "code",
   "execution_count": null,
   "metadata": {},
   "outputs": [],
   "source": [
    "# Historical Earning Calendar\n",
    "historical_earning_cal = fmpsdk.historical_earning_calendar(\"AAPL\", limit=100, \n",
    "                                                             output= 'markdown')\n",
    "pprint(historical_earning_cal)\n",
    "len(enc.encode(str(historical_earning_cal)))\n"
   ]
  },
  {
   "cell_type": "code",
   "execution_count": null,
   "metadata": {},
   "outputs": [],
   "source": [
    "# Historical Employee Count\n",
    "historical_employee_count = fmpsdk.historical_employee_count(\"AAPL\", )\n",
    "display(Markdown(historical_employee_count))\n",
    "len(enc.encode(str(historical_employee_count)))\n",
    "\n"
   ]
  },
  {
   "cell_type": "code",
   "execution_count": null,
   "metadata": {},
   "outputs": [],
   "source": [
    "# Historical Market Capitalization\n",
    "historical_market_cap = fmpsdk.historical_market_capitalization(\"AAPL\", )\n",
    "display(Markdown(historical_market_cap))\n",
    "len(enc.encode(str(historical_market_cap)))\n"
   ]
  },
  {
   "cell_type": "code",
   "execution_count": null,
   "metadata": {},
   "outputs": [],
   "source": [
    "# Historical NASDAQ Constituent\n",
    "historical_nasdaq = fmpsdk.historical_nasdaq_constituent()\n",
    "pprint(historical_nasdaq)"
   ]
  },
  {
   "cell_type": "code",
   "execution_count": null,
   "metadata": {},
   "outputs": [],
   "source": [
    "# Historical Price Full\n",
    "historical_price = fmpsdk.historical_price_full(\"AAPL\", \n",
    "                                                from_date= \"2023-08-20\",\n",
    "                                                to_date= \"2024-08-20\", \n",
    "                                                output= 'markdown')\n",
    "\n",
    "display(Markdown(historical_price))\n",
    "len(enc.encode(str(historical_price)))\n"
   ]
  },
  {
   "cell_type": "code",
   "execution_count": null,
   "metadata": {},
   "outputs": [],
   "source": [
    "# Historical Rating\n",
    "historical_rating = fmpsdk.historical_rating(\"AAPL\", )\n",
    "display(Markdown(historical_rating))\n",
    "len(enc.encode(str(historical_rating)))\n"
   ]
  },
  {
   "cell_type": "code",
   "execution_count": null,
   "metadata": {},
   "outputs": [],
   "source": [
    "# Historical Sectors Performance\n",
    "historical_sectors = fmpsdk.historical_sectors_performance('2024-01-01', '2024-03-01')\n",
    "pprint(historical_sectors)\n",
    "len(enc.encode(str(historical_sectors)))\n"
   ]
  },
  {
   "cell_type": "code",
   "execution_count": null,
   "metadata": {},
   "outputs": [],
   "source": [
    "# Historical Share Float\n",
    "historical_float = fmpsdk.historical_share_float(\"AAPL\", )\n",
    "pprint(historical_float)\n",
    "len(enc.encode(str(historical_float)))\n"
   ]
  },
  {
   "cell_type": "code",
   "execution_count": null,
   "metadata": {},
   "outputs": [],
   "source": [
    "# Historical Social Sentiment\n",
    "historical_sentiment = fmpsdk.historical_social_sentiment(\"AAPL\", \n",
    "                                                          output=\"markdown\", page=0)\n",
    "display(Markdown(historical_sentiment))\n",
    "len(enc.encode(str(historical_sentiment)))\n",
    "\n"
   ]
  },
  {
   "cell_type": "code",
   "execution_count": null,
   "metadata": {},
   "outputs": [],
   "source": [
    "# Historical S&P 500 Constituent\n",
    "historical_sp500 = fmpsdk.historical_sp500_constituent()\n",
    "display(Markdown(historical_sp500))\n",
    "len(enc.encode(str(historical_sp500)))\n"
   ]
  },
  {
   "cell_type": "code",
   "execution_count": null,
   "metadata": {},
   "outputs": [],
   "source": [
    "# Historical Stock Dividend\n",
    "historical_dividend = fmpsdk.historical_stock_dividend(\"AAPL\", output= 'markdown')\n",
    "display(Markdown(historical_dividend))\n",
    "len(enc.encode(str(historical_dividend)))"
   ]
  },
  {
   "cell_type": "code",
   "execution_count": null,
   "metadata": {},
   "outputs": [],
   "source": [
    "# Historical Stock Split\n",
    "historical_split = fmpsdk.historical_stock_split(\"AAPL\", )\n",
    "pprint(historical_split)\n",
    "len(enc.encode(str(historical_split)))\n"
   ]
  },
  {
   "cell_type": "code",
   "execution_count": null,
   "metadata": {},
   "outputs": [],
   "source": [
    "# Income Statement\n",
    "income_statement = fmpsdk.income_statement(\"AAPL\", )\n",
    "display(Markdown(income_statement))\n",
    "len(enc.encode(str(income_statement)))"
   ]
  },
  {
   "cell_type": "code",
   "execution_count": null,
   "metadata": {},
   "outputs": [],
   "source": [
    "# Income Statement As Reported\n",
    "income_statement_reported = fmpsdk.income_statement_as_reported(\"AAPL\", )\n",
    "pprint(income_statement_reported)\n",
    "len(enc.encode(str(income_statement_reported)))"
   ]
  },
  {
   "cell_type": "code",
   "execution_count": null,
   "metadata": {},
   "outputs": [],
   "source": [
    "# Income Statement Growth\n",
    "income_statement_growth = fmpsdk.income_statement_growth(\"AAPL\", )\n",
    "pprint(income_statement_growth)\n",
    "len(enc.encode(str(income_statement_growth)))"
   ]
  },
  {
   "cell_type": "code",
   "execution_count": null,
   "metadata": {},
   "outputs": [],
   "source": [
    "# Indexes\n",
    "indexes = fmpsdk.indexes(output= 'markdown')\n",
    "pprint(indexes)\n",
    "len(enc.encode(str(indexes)))"
   ]
  },
  {
   "cell_type": "code",
   "execution_count": null,
   "metadata": {},
   "outputs": [],
   "source": [
    "# Industry PE Ratio\n",
    "industry_pe = fmpsdk.industry_pe_ratio(\"2024-08-20\", \"NASDAQ\")\n",
    "pprint(industry_pe)\n",
    "len(enc.encode(str(industry_pe)))\n"
   ]
  },
  {
   "cell_type": "code",
   "execution_count": null,
   "metadata": {},
   "outputs": [],
   "source": [
    "# Insider Trading\n",
    "insider_trading = fmpsdk.insider_trading(\"AAPL\", )\n",
    "pprint(insider_trading)\n",
    "len(enc.encode(str(insider_trading)))"
   ]
  },
  {
   "cell_type": "code",
   "execution_count": null,
   "metadata": {},
   "outputs": [],
   "source": [
    "# Insider Trading RSS Feed\n",
    "insider_trading_rss = fmpsdk.insider_trading_rss_feed()\n",
    "pprint(insider_trading_rss)"
   ]
  },
  {
   "cell_type": "code",
   "execution_count": null,
   "metadata": {},
   "outputs": [],
   "source": [
    "# Institutional Holders\n",
    "institutional_holders = fmpsdk.institutional_holders(\"AAPL\", )\n",
    "pprint(institutional_holders)\n",
    "len(enc.encode(str(institutional_holders)))\n"
   ]
  },
  {
   "cell_type": "code",
   "execution_count": null,
   "metadata": {},
   "outputs": [],
   "source": [
    "# IPO Calendar\n",
    "ipo_calendar = fmpsdk.ipo_calendar()\n",
    "pprint(ipo_calendar)\n",
    "len(enc.encode(str(ipo_calendar)))"
   ]
  },
  {
   "cell_type": "code",
   "execution_count": null,
   "metadata": {},
   "outputs": [],
   "source": [
    "# Is Market Open\n",
    "is_market_open = fmpsdk.is_market_open()\n",
    "pprint(is_market_open)\n",
    "len(enc.encode(str(is_market_open)))\n"
   ]
  },
  {
   "cell_type": "code",
   "execution_count": null,
   "metadata": {},
   "outputs": [],
   "source": [
    "# Key Executives\n",
    "key_executives = fmpsdk.key_executives(\"AAPL\", )\n",
    "pprint(key_executives)\n",
    "len(enc.encode(str(key_executives)))"
   ]
  },
  {
   "cell_type": "code",
   "execution_count": null,
   "metadata": {},
   "outputs": [],
   "source": [
    "# Key Metrics\n",
    "key_metrics = fmpsdk.key_metrics(\"AAPL\", precision=3)\n",
    "display(Markdown(key_metrics))\n",
    "len(enc.encode(str(key_metrics)))\n"
   ]
  },
  {
   "cell_type": "code",
   "execution_count": null,
   "metadata": {},
   "outputs": [],
   "source": [
    "# Key Metrics TTM\n",
    "key_metrics_ttm = fmpsdk.key_metrics_ttm(\"AAPL\", )\n",
    "pprint(key_metrics_ttm)\n",
    "len(enc.encode(str(key_metrics_ttm)))\n"
   ]
  },
  {
   "cell_type": "code",
   "execution_count": null,
   "metadata": {},
   "outputs": [],
   "source": [
    "# Losers\n",
    "losers = fmpsdk.losers()\n",
    "pprint(losers)\n",
    "len(enc.encode(str(losers)))\n"
   ]
  },
  {
   "cell_type": "code",
   "execution_count": null,
   "metadata": {},
   "outputs": [],
   "source": [
    "# Mapper CIK Company\n",
    "mapper_cik_company = fmpsdk.mapper_cik_company(ticker= \"AAPL\")\n",
    "pprint(mapper_cik_company)\n",
    "len(enc.encode(str(mapper_cik_company)))\n"
   ]
  },
  {
   "cell_type": "code",
   "execution_count": null,
   "metadata": {},
   "outputs": [],
   "source": [
    "# Mapper CIK Name\n",
    "mapper_cik_name = fmpsdk.mapper_cik_name(name= \"AAPL\")\n",
    "pprint(mapper_cik_name)\n",
    "len(enc.encode(str(mapper_cik_name)))\n"
   ]
  },
  {
   "cell_type": "code",
   "execution_count": null,
   "metadata": {},
   "outputs": [],
   "source": [
    "# Market Capitalization\n",
    "market_cap = fmpsdk.market_capitalization(\"AAPL\", )\n",
    "pprint(market_cap)\n",
    "len(enc.encode(str(market_cap)))"
   ]
  },
  {
   "cell_type": "code",
   "execution_count": null,
   "metadata": {},
   "outputs": [],
   "source": [
    "# Market Hours\n",
    "market_hours = fmpsdk.market_hours()\n",
    "pprint(market_hours)\n",
    "len(enc.encode(str(market_hours)))"
   ]
  },
  {
   "cell_type": "code",
   "execution_count": null,
   "metadata": {},
   "outputs": [],
   "source": [
    "# Market Risk Premium\n",
    "market_risk_premium = fmpsdk.market_risk_premium()\n",
    "pprint(market_risk_premium)\n",
    "len(enc.encode(str(market_risk_premium)))\n"
   ]
  },
  {
   "cell_type": "code",
   "execution_count": null,
   "metadata": {},
   "outputs": [],
   "source": [
    "# Mergers Acquisitions RSS Feed\n",
    "mergers_acquisitions_rss = fmpsdk.mergers_acquisitions_rss_feed()\n",
    "pprint(mergers_acquisitions_rss)\n",
    "len(enc.encode(str(mergers_acquisitions_rss)))"
   ]
  },
  {
   "cell_type": "code",
   "execution_count": null,
   "metadata": {},
   "outputs": [],
   "source": [
    "# Multiple Company Prices\n",
    "multiple_prices = fmpsdk.multiple_company_prices([\"AAPL\", \"GOOGL\"], )\n",
    "pprint(multiple_prices)\n",
    "len(enc.encode(str(multiple_prices)))"
   ]
  },
  {
   "cell_type": "code",
   "execution_count": null,
   "metadata": {},
   "outputs": [],
   "source": [
    "# Mutual Fund Holders\n",
    "mutual_fund_holders = fmpsdk.mutual_fund_holders(\"AAPL\", )\n",
    "pprint(mutual_fund_holders)\n",
    "len(enc.encode(str(mutual_fund_holders)))\n"
   ]
  },
  {
   "cell_type": "code",
   "execution_count": null,
   "metadata": {},
   "outputs": [],
   "source": [
    "# Mutual Fund List\n",
    "mutual_fund_list = fmpsdk.mutual_fund_list()\n",
    "pprint(mutual_fund_list)\n",
    "len(enc.encode(str(mutual_fund_list)))"
   ]
  },
  {
   "cell_type": "code",
   "execution_count": null,
   "metadata": {},
   "outputs": [],
   "source": [
    "# NASDAQ Constituent\n",
    "nasdaq_constituent = fmpsdk.nasdaq_constituent()\n",
    "pprint(nasdaq_constituent)\n",
    "len(enc.encode(str(nasdaq_constituent)))\n"
   ]
  },
  {
   "cell_type": "code",
   "execution_count": null,
   "metadata": {},
   "outputs": [],
   "source": [
    "# Owner Earnings\n",
    "owner_earnings = fmpsdk.owner_earnings(\"AAPL\", )\n",
    "pprint(owner_earnings)\n",
    "len(enc.encode(str(owner_earnings)))"
   ]
  },
  {
   "cell_type": "code",
   "execution_count": null,
   "metadata": {},
   "outputs": [],
   "source": [
    "# Press Releases\n",
    "press_releases = fmpsdk.press_releases(\"AAPL\", )\n",
    "pprint(press_releases)\n",
    "len(enc.encode(str(press_releases)))"
   ]
  },
  {
   "cell_type": "code",
   "execution_count": null,
   "metadata": {},
   "outputs": [],
   "source": [
    "# Price Target by Analyst Name\n",
    "price_target_analyst = fmpsdk.price_target_by_analyst_name(name=\"Barclays\", )\n",
    "pprint(price_target_analyst)\n",
    "len(enc.encode(str(price_target_analyst)))"
   ]
  },
  {
   "cell_type": "code",
   "execution_count": null,
   "metadata": {},
   "outputs": [],
   "source": [
    "# Price Target by Company\n",
    "price_target_company = fmpsdk.price_target_by_company(company=\"Barclays\", )\n",
    "pprint(price_target_company)\n",
    "len(enc.encode(str(price_target_company)))\n"
   ]
  },
  {
   "cell_type": "code",
   "execution_count": null,
   "metadata": {},
   "outputs": [],
   "source": [
    "# Price Target Consensus\n",
    "price_target_consensus = fmpsdk.price_target_consensus(\"AAPL\", )\n",
    "display(Markdown(price_target_consensus))\n",
    "len(enc.encode(str(price_target_consensus)))\n"
   ]
  },
  {
   "cell_type": "code",
   "execution_count": null,
   "metadata": {},
   "outputs": [],
   "source": [
    "# Price Target RSS Feed\n",
    "price_target_rss = fmpsdk.price_target_rss_feed()\n",
    "pprint(price_target_rss)\n",
    "len(enc.encode(str(price_target_rss)))"
   ]
  },
  {
   "cell_type": "code",
   "execution_count": null,
   "metadata": {},
   "outputs": [],
   "source": [
    "# Price Target Summary\n",
    "price_target_summary = fmpsdk.price_target_summary(\"AAPL\", )\n",
    "display(Markdown(price_target_summary))\n",
    "len(enc.encode(str(price_target_summary)))"
   ]
  },
  {
   "cell_type": "code",
   "execution_count": null,
   "metadata": {},
   "outputs": [],
   "source": [
    "# Price Targets\n",
    "price_targets = fmpsdk.price_targets(\"AAPL\", )\n",
    "display(Markdown(price_targets))\n",
    "len(enc.encode(str(price_targets)))\n"
   ]
  },
  {
   "cell_type": "code",
   "execution_count": null,
   "metadata": {},
   "outputs": [],
   "source": [
    "# Quote\n",
    "quote = fmpsdk.quote(\"AAPL\", )\n",
    "display(Markdown(quote))\n",
    "len(enc.encode(str(quote)))"
   ]
  },
  {
   "cell_type": "code",
   "execution_count": null,
   "metadata": {},
   "outputs": [],
   "source": [
    "# Quote Short\n",
    "quote_short = fmpsdk.quote_short(\"AAPL\", )\n",
    "pprint(quote_short)\n",
    "len(enc.encode(str(quote_short)))"
   ]
  },
  {
   "cell_type": "code",
   "execution_count": null,
   "metadata": {},
   "outputs": [],
   "source": [
    "# Rating\n",
    "rating = fmpsdk.rating(\"AAPL\", )\n",
    "display(Markdown(rating))\n",
    "len(enc.encode(str(rating)))\n"
   ]
  },
  {
   "cell_type": "code",
   "execution_count": null,
   "metadata": {},
   "outputs": [],
   "source": [
    "# Revenue Geographic Segmentation\n",
    "revenue_geo = fmpsdk.revenue_geographic_segmentation(\"AAPL\", output= 'markdown')\n",
    "display(Markdown(revenue_geo))\n",
    "len(enc.encode(str(revenue_geo)))"
   ]
  },
  {
   "cell_type": "code",
   "execution_count": null,
   "metadata": {},
   "outputs": [],
   "source": [
    "# Sales Revenue by Segments\n",
    "sales_revenue = fmpsdk.sales_revenue_by_segments(\"AAPL\", period= \"quarter\", structure= \"flat\", \n",
    "                                                 output= 'markdown')\n",
    "display(Markdown(sales_revenue))\n",
    "len(enc.encode(str(sales_revenue)))\n"
   ]
  },
  {
   "cell_type": "code",
   "execution_count": null,
   "metadata": {},
   "outputs": [],
   "source": [
    "# Search\n",
    "search_results = fmpsdk.search(\"Apple\", )\n",
    "pprint(search_results)\n",
    "len(enc.encode(str(search_results)))"
   ]
  },
  {
   "cell_type": "code",
   "execution_count": null,
   "metadata": {},
   "outputs": [],
   "source": [
    "# Search Mergers Acquisitions\n",
    "search_ma = fmpsdk.search_mergers_acquisitions(\"Apple\", )\n",
    "display(Markdown(search_ma))\n",
    "len(enc.encode(str(search_ma)))"
   ]
  },
  {
   "cell_type": "code",
   "execution_count": null,
   "metadata": {},
   "outputs": [],
   "source": [
    "# Search Ticker\n",
    "search_ticker = fmpsdk.search_ticker(\"AAPL\", )\n",
    "pprint(search_ticker)\n",
    "len(enc.encode(str(search_ticker)))"
   ]
  },
  {
   "cell_type": "code",
   "execution_count": null,
   "metadata": {},
   "outputs": [],
   "source": [
    "# SEC Filings\n",
    "sec_filings = fmpsdk.sec_filings(\"AAPL\", )\n",
    "pprint(sec_filings)\n",
    "len(enc.encode(str(sec_filings)))"
   ]
  },
  {
   "cell_type": "code",
   "execution_count": null,
   "metadata": {},
   "outputs": [],
   "source": [
    "# SEC Filings Data\n",
    "sec_filings_data = fmpsdk.sec_filings_data(\"AAPL\", filing_type=\"10-K\", limit=1)\n",
    "display(Markdown(sec_filings_data))\n",
    "\n",
    "token_count = len(enc.encode(str(sec_filings_data)))\n",
    "pprint(f\"Token count: {token_count}\")"
   ]
  },
  {
   "cell_type": "code",
   "execution_count": null,
   "metadata": {},
   "outputs": [],
   "source": [
    "# SEC RSS Feeds\n",
    "sec_rss_feeds = fmpsdk.sec_rss_feeds()\n",
    "pprint(sec_rss_feeds)\n",
    "len(enc.encode(str(sec_rss_feeds)))\n"
   ]
  },
  {
   "cell_type": "code",
   "execution_count": null,
   "metadata": {},
   "outputs": [],
   "source": [
    "# Sector PE Ratio\n",
    "sector_pe_ratio = fmpsdk.sector_pe_ratio(date=\"2024-08-20\", exchange=\"NASDAQ\")\n",
    "display(Markdown(sector_pe_ratio))\n",
    "len(enc.encode(str(sector_pe_ratio)))"
   ]
  },
  {
   "cell_type": "code",
   "execution_count": null,
   "metadata": {},
   "outputs": [],
   "source": [
    "# Sectors Performance\n",
    "sectors_performance = fmpsdk.sectors_performance()\n",
    "display(Markdown(sectors_performance))\n",
    "len(enc.encode(str(sectors_performance)))"
   ]
  },
  {
   "cell_type": "code",
   "execution_count": null,
   "metadata": {},
   "outputs": [],
   "source": [
    "# Senate Disclosure RSS\n",
    "senate_disclosure_rss = fmpsdk.senate_disclosure_rss()\n",
    "pprint(senate_disclosure_rss)\n",
    "len(enc.encode(str(senate_disclosure_rss)))\n",
    "\n"
   ]
  },
  {
   "cell_type": "code",
   "execution_count": null,
   "metadata": {},
   "outputs": [],
   "source": [
    "# Senate Disclosure Symbol\n",
    "senate_disclosure_symbol = fmpsdk.senate_disclosure_symbol(\"AAPL\", )\n",
    "pprint(senate_disclosure_symbol)\n",
    "len(enc.encode(str(senate_disclosure_symbol)))"
   ]
  },
  {
   "cell_type": "code",
   "execution_count": null,
   "metadata": {},
   "outputs": [],
   "source": [
    "# Senate Trading RSS\n",
    "senate_trading_rss = fmpsdk.senate_trading_rss()\n",
    "pprint(senate_trading_rss)\n",
    "len(enc.encode(str(senate_trading_rss)))\n"
   ]
  },
  {
   "cell_type": "code",
   "execution_count": null,
   "metadata": {},
   "outputs": [],
   "source": [
    "# Senate Trading Symbol\n",
    "senate_trading_symbol = fmpsdk.senate_trading_symbol(\"AAPL\", )\n",
    "pprint(senate_trading_symbol)\n",
    "len(enc.encode(str(senate_trading_symbol)))\n"
   ]
  },
  {
   "cell_type": "code",
   "execution_count": null,
   "metadata": {},
   "outputs": [],
   "source": [
    "# Shares Float\n",
    "shares_float = fmpsdk.shares_float(\"AAPL\", )\n",
    "pprint(shares_float)\n",
    "len(enc.encode(str(shares_float)))"
   ]
  },
  {
   "cell_type": "code",
   "execution_count": null,
   "metadata": {},
   "outputs": [],
   "source": [
    "# Social Sentiment Changes\n",
    "social_sentiment_changes = fmpsdk.social_sentiment_changes(\"AAPL\", )\n",
    "display(Markdown(social_sentiment_changes))\n",
    "len(enc.encode(str(social_sentiment_changes)))"
   ]
  },
  {
   "cell_type": "code",
   "execution_count": null,
   "metadata": {},
   "outputs": [],
   "source": [
    "# S&P 500 Constituent\n",
    "sp500_constituent = fmpsdk.sp500_constituent()\n",
    "pprint(sp500_constituent)\n",
    "len(enc.encode(str(sp500_constituent)))"
   ]
  },
  {
   "cell_type": "code",
   "execution_count": null,
   "metadata": {},
   "outputs": [],
   "source": [
    "# Stock Grade\n",
    "stock_grade = fmpsdk.stock_grade(\"AAPL\",  )\n",
    "display(Markdown(stock_grade))\n",
    "print(len(enc.encode(str(stock_grade))))"
   ]
  },
  {
   "cell_type": "code",
   "execution_count": null,
   "metadata": {},
   "outputs": [],
   "source": [
    "# Stock News\n",
    "stock_news = fmpsdk.stock_news(tickers=[\"AAPL\", \"GOOGL\"], \n",
    "                               from_date= \"2024-08-27\", \n",
    "                               to_date= \"2024-08-28\", \n",
    "                               limit=1000, \n",
    "                               output= 'markdown')\n",
    "display(Markdown(stock_news))\n",
    "print(len(enc.encode(str(stock_news))))\n"
   ]
  },
  {
   "cell_type": "code",
   "execution_count": null,
   "metadata": {},
   "outputs": [],
   "source": [
    "# Stock Peers\n",
    "stock_peers = fmpsdk.stock_peers(\"AAPL\", )\n",
    "display(Markdown(stock_peers))\n",
    "print(len(enc.encode(str(stock_peers))))\n"
   ]
  },
  {
   "cell_type": "code",
   "execution_count": null,
   "metadata": {},
   "outputs": [],
   "source": [
    "# Stock Screener\n",
    "stock_screener = fmpsdk.stock_screener()\n",
    "pprint(stock_screener)\n",
    "print(len(enc.encode(str(stock_screener))))\n"
   ]
  },
  {
   "cell_type": "code",
   "execution_count": null,
   "metadata": {},
   "outputs": [],
   "source": [
    "# Stock Split Calendar\n",
    "stock_split_calendar = fmpsdk.stock_split_calendar()\n",
    "pprint(stock_split_calendar)\n",
    "len(enc.encode(str(stock_split_calendar)))"
   ]
  },
  {
   "cell_type": "code",
   "execution_count": null,
   "metadata": {},
   "outputs": [],
   "source": [
    "# Symbols List\n",
    "symbols_list = fmpsdk.symbols_list()\n",
    "pprint(symbols_list)\n",
    "len(enc.encode(str(symbols_list)))"
   ]
  },
  {
   "cell_type": "code",
   "execution_count": null,
   "metadata": {},
   "outputs": [],
   "source": [
    "# Technical Indicators\n",
    "technical_indicators = fmpsdk.technical_indicators(\"AAPL\", \n",
    "                                                   period=14, \n",
    "                                                   statistics_type='rsi', \n",
    "                                                   time_delta='1day', \n",
    "                                                   output= 'markdown')\n",
    "pprint(technical_indicators)\n",
    "len(enc.encode(str(technical_indicators)))"
   ]
  },
  {
   "cell_type": "code",
   "execution_count": null,
   "metadata": {},
   "outputs": [],
   "source": [
    "# Trending Social Sentiment\n",
    "trending_social_sentiment = fmpsdk.trending_social_sentiment()\n",
    "pprint(trending_social_sentiment)\n",
    "len(enc.encode(str(trending_social_sentiment)))"
   ]
  },
  {
   "cell_type": "code",
   "execution_count": null,
   "metadata": {},
   "outputs": [],
   "source": [
    "# Treasury Rates\n",
    "treasury_rates = fmpsdk.treasury_rates()\n",
    "pprint(treasury_rates)\n",
    "len(enc.encode(str(treasury_rates)))\n"
   ]
  },
  {
   "cell_type": "code",
   "execution_count": null,
   "metadata": {},
   "outputs": [],
   "source": [
    "# TSX List\n",
    "tsx_list = fmpsdk.tsx_list()\n",
    "pprint(tsx_list)\n",
    "len(enc.encode(str(tsx_list)))"
   ]
  },
  {
   "cell_type": "code",
   "execution_count": null,
   "metadata": {},
   "outputs": [],
   "source": [
    "# Upgrades Downgrades\n",
    "upgrades_downgrades = fmpsdk.upgrades_downgrades(\"AAPL\", )\n",
    "pprint(upgrades_downgrades)\n",
    "len(enc.encode(str(upgrades_downgrades)))"
   ]
  },
  {
   "cell_type": "code",
   "execution_count": null,
   "metadata": {},
   "outputs": [],
   "source": [
    "# Upgrades Downgrades by Company\n",
    "upgrades_downgrades_company = fmpsdk.upgrades_downgrades_by_company(company=\"Barclays\", \n",
    "                                                                    output='markdown')\n",
    "pprint(upgrades_downgrades_company)\n",
    "len(enc.encode(str(upgrades_downgrades_company)))"
   ]
  },
  {
   "cell_type": "code",
   "execution_count": null,
   "metadata": {},
   "outputs": [],
   "source": [
    "# Upgrades Downgrades Consensus\n",
    "upgrades_downgrades_consensus = fmpsdk.upgrades_downgrades_consensus(\"AAPL\", )\n",
    "pprint(upgrades_downgrades_consensus)\n",
    "len(enc.encode(str(upgrades_downgrades_consensus)))\n"
   ]
  },
  {
   "cell_type": "code",
   "execution_count": null,
   "metadata": {},
   "outputs": [],
   "source": [
    "# Upgrades Downgrades RSS Feed\n",
    "upgrades_downgrades_rss = fmpsdk.upgrades_downgrades_rss_feed()\n",
    "pprint(upgrades_downgrades_rss)\n",
    "len(enc.encode(str(upgrades_downgrades_rss)))\n"
   ]
  },
  {
   "cell_type": "code",
   "execution_count": null,
   "metadata": {},
   "outputs": [],
   "source": []
  }
 ],
 "metadata": {
  "kernelspec": {
   "display_name": "genaifinancial",
   "language": "python",
   "name": "python3"
  },
  "language_info": {
   "codemirror_mode": {
    "name": "ipython",
    "version": 3
   },
   "file_extension": ".py",
   "mimetype": "text/x-python",
   "name": "python",
   "nbconvert_exporter": "python",
   "pygments_lexer": "ipython3",
   "version": "3.12.7"
  }
 },
 "nbformat": 4,
 "nbformat_minor": 4
}
